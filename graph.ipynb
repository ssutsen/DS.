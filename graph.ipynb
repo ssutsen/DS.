{
 "cells": [
  {
   "cell_type": "code",
   "execution_count": 1,
   "metadata": {},
   "outputs": [],
   "source": [
    "from collections import deque\n",
    "\n",
    "# 節點類別，包含該節點的鄰居節點和訪問標記\n",
    "class Node:\n",
    "    def __init__(self, val):\n",
    "        self.val = val\n",
    "        self.neighbors = []\n",
    "        self.visited = False\n",
    "\n",
    "# 圖類別，包含節點列表和添加節點的方法\n",
    "class Graph:\n",
    "    def __init__(self):\n",
    "        self.nodes = []\n",
    "        \n",
    "    def add_node(self, val):\n",
    "        node = Node(val)\n",
    "        self.nodes.append(node)\n",
    "        return node\n",
    "\n",
    "    # 添加有向邊，由 node1 指向 node2\n",
    "    def add_edge(self, node1, node2):\n",
    "        node1.neighbors.append(node2)\n",
    "        node2.neighbors.append(node1)\n",
    "        \n",
    "    def get_nodes(self):\n",
    "        return self.nodes\n",
    "\n",
    "    # 深度優先搜尋\n",
    "    def dfs(self, start):\n",
    "        # 使用堆疊實現深度優先搜尋\n",
    "        stack = [start]\n",
    "        while stack:\n",
    "            node = stack.pop()\n",
    "            if not node.visited:\n",
    "                node.visited = True\n",
    "                print(node.val, end=' ')\n",
    "                for neighbor in node.neighbors:\n",
    "                    stack.append(neighbor)\n",
    "\n",
    "    # 廣度優先搜尋\n",
    "    def bfs(self, start):\n",
    "        # 使用隊列實現廣度優先搜尋\n",
    "        queue = deque([start])\n",
    "        while queue:\n",
    "            node = queue.popleft()\n",
    "            if not node.visited:\n",
    "                node.visited = True\n",
    "                print(node.val, end=' ')\n",
    "                for neighbor in node.neighbors:\n",
    "                    queue.append(neighbor)"
   ]
  },
  {
   "cell_type": "code",
   "execution_count": 6,
   "metadata": {},
   "outputs": [],
   "source": [
    "import matplotlib.pyplot as plt\n",
    "import numpy as np\n",
    "import networkx as nx\n",
    "\n",
    "def draw_graph(graph):\n",
    "    # 建立無向圖\n",
    "    G = nx.Graph()\n",
    "    for node in graph.get_nodes():\n",
    "        G.add_node(node.val)\n",
    "        for neighbor in node.neighbors:\n",
    "            G.add_edge(node.val, neighbor.val)\n",
    "    \n",
    "    # 使用 Kamada-Kawai 布局\n",
    "    pos = nx.kamada_kawai_layout(G)\n",
    "    nx.draw_networkx(G, pos, node_color='blue', node_size=500, font_size=16, with_labels=True)\n",
    "\n",
    "    plt.show()"
   ]
  },
  {
   "cell_type": "code",
   "execution_count": 7,
   "metadata": {},
   "outputs": [],
   "source": [
    "# 建立圖\n",
    "graph = Graph()\n",
    "node1 = graph.add_node(1)\n",
    "node2 = graph.add_node(2)\n",
    "node3 = graph.add_node(3)\n",
    "node4 = graph.add_node(4)\n",
    "node5 = graph.add_node(5)\n",
    "graph.add_edge(node1, node2)\n",
    "graph.add_edge(node1, node4)\n",
    "graph.add_edge(node2, node3)\n",
    "graph.add_edge(node2, node4)\n",
    "graph.add_edge(node3, node5)\n",
    "graph.add_edge(node4, node3)\n",
    "graph.add_edge(node4, node5)"
   ]
  },
  {
   "cell_type": "code",
   "execution_count": 8,
   "metadata": {},
   "outputs": [
    {
     "data": {
      "image/png": "[encoded data removed]",
      "text/plain": [
       "<Figure size 640x480 with 1 Axes>"
      ]
     },
     "metadata": {},
     "output_type": "display_data"
    }
   ],
   "source": [
    "draw_graph(graph)"
   ]
  },
  {
   "cell_type": "code",
   "execution_count": 9,
   "metadata": {},
   "outputs": [
    {
     "name": "stdout",
     "output_type": "stream",
     "text": [
      "1 4 5 3 2 "
     ]
    }
   ],
   "source": [
    "# 深度優先搜尋\n",
    "graph.dfs(node1)  # 輸出: 1 4 5 3 2"
   ]
  },
  {
   "cell_type": "code",
   "execution_count": 10,
   "metadata": {},
   "outputs": [],
   "source": [
    "# 廣度優先搜尋\n",
    "graph.bfs(node1)  # 輸出: 1 2 4 3 5"
   ]
  }
 ],
 "metadata": {
  "kernelspec": {
   "display_name": "Python 3",
   "language": "python",
   "name": "python3"
  },
  "language_info": {
   "codemirror_mode": {
    "name": "ipython",
    "version": 3
   },
   "file_extension": ".py",
   "mimetype": "text/x-python",
   "name": "python",
   "nbconvert_exporter": "python",
   "pygments_lexer": "ipython3",
   "version": "3.10.1"
  },
  "orig_nbformat": 4
 },
 "nbformat": 4,
 "nbformat_minor": 2
}
